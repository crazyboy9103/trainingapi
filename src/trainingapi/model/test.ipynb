{
 "cells": [
  {
   "cell_type": "code",
   "execution_count": 21,
   "metadata": {},
   "outputs": [],
   "source": [
    "import timm"
   ]
  },
  {
   "cell_type": "code",
   "execution_count": 22,
   "metadata": {},
   "outputs": [],
   "source": [
    "model=timm.create_model('resnet18', pretrained=True)\n",
    "import torch\n",
    "x=torch.randn(2, 3, 224, 224)\n",
    "model(x).shape\n",
    "model.forward_features(x).shape\n",
    "y=model.forward_intermediates(x)"
   ]
  },
  {
   "cell_type": "code",
   "execution_count": 23,
   "metadata": {},
   "outputs": [],
   "source": [
    "model = timm.create_model('mobilenetv3_large_100', pretrained=True, num_classes=10)"
   ]
  },
  {
   "cell_type": "code",
   "execution_count": 26,
   "metadata": {},
   "outputs": [],
   "source": [
    "import torch\n",
    "import torch.onnx\n",
    "model=model.eval()"
   ]
  },
  {
   "cell_type": "code",
   "execution_count": 27,
   "metadata": {},
   "outputs": [],
   "source": [
    "torch.onnx.export(model, x, \"mobilenetv3_large_100.onnx\", verbose=True)"
   ]
  },
  {
   "cell_type": "code",
   "execution_count": 28,
   "metadata": {},
   "outputs": [],
   "source": [
    "import onnxruntime as ort\n",
    "ort_session = ort.InferenceSession(\"mobilenetv3_large_100.onnx\")\n",
    "\n",
    "ort_inputs={ort_session.get_inputs()[0].name: x.numpy()}\n",
    "ort_outs = ort_session.run(None, ort_inputs)"
   ]
  },
  {
   "cell_type": "code",
   "execution_count": 29,
   "metadata": {},
   "outputs": [
    {
     "data": {
      "text/plain": [
       "[array([[ 2.217774  ,  1.5519787 , -0.22444859,  0.7592643 ,  0.961927  ,\n",
       "         -0.3114974 , -0.08623648,  0.359645  ,  0.21477658, -0.75887996],\n",
       "        [ 2.5206194 ,  1.6517403 , -0.29994643,  0.7737431 ,  0.5924535 ,\n",
       "          0.12534808, -0.47290525,  0.14639573, -0.03407793, -1.3731933 ]],\n",
       "       dtype=float32)]"
      ]
     },
     "execution_count": 29,
     "metadata": {},
     "output_type": "execute_result"
    }
   ],
   "source": [
    "ort_outs"
   ]
  },
  {
   "cell_type": "code",
   "execution_count": 30,
   "metadata": {},
   "outputs": [],
   "source": [
    "t_y=model(x)"
   ]
  },
  {
   "cell_type": "code",
   "execution_count": 31,
   "metadata": {},
   "outputs": [],
   "source": [
    "import numpy as np\n",
    "\n",
    "np.testing.assert_allclose(t_y.detach().numpy(), ort_outs[0], rtol=1e-01, atol=1e-1)"
   ]
  },
  {
   "cell_type": "code",
   "execution_count": 19,
   "metadata": {},
   "outputs": [
    {
     "data": {
      "text/plain": [
       "array([[-7.142563 , -8.189471 , -5.151391 , ..., -7.3517528, -6.735279 ,\n",
       "        -7.148267 ],\n",
       "       [-7.5918875, -7.38251  , -8.671149 , ..., -7.5795927, -8.036585 ,\n",
       "        -6.4098034]], dtype=float32)"
      ]
     },
     "execution_count": 19,
     "metadata": {},
     "output_type": "execute_result"
    }
   ],
   "source": [
    "t_y.detach().numpy()"
   ]
  },
  {
   "cell_type": "code",
   "execution_count": 20,
   "metadata": {},
   "outputs": [
    {
     "data": {
      "text/plain": [
       "[array([[-7.6738873, -7.986134 , -7.000673 , ..., -7.2188826, -7.074541 ,\n",
       "         -6.6318755],\n",
       "        [-7.378369 , -7.7288613, -6.7491007, ..., -7.0367503, -7.094784 ,\n",
       "         -6.681987 ]], dtype=float32)]"
      ]
     },
     "execution_count": 20,
     "metadata": {},
     "output_type": "execute_result"
    }
   ],
   "source": [
    "ort_outs"
   ]
  },
  {
   "cell_type": "code",
   "execution_count": 2,
   "metadata": {},
   "outputs": [
    {
     "name": "stdout",
     "output_type": "stream",
     "text": [
      "[Builder] Skipped loading parameter rpn.head.cls_logits.weight due to incompatible shapes: torch.Size([18, 256, 1, 1]) vs torch.Size([3, 256, 1, 1])\n",
      "[Builder] Skipped loading parameter rpn.head.cls_logits.bias due to incompatible shapes: torch.Size([18]) vs torch.Size([3])\n",
      "[Builder] Skipped loading parameter rpn.head.bbox_pred.weight due to incompatible shapes: torch.Size([108, 256, 1, 1]) vs torch.Size([12, 256, 1, 1])\n",
      "[Builder] Skipped loading parameter rpn.head.bbox_pred.bias due to incompatible shapes: torch.Size([108]) vs torch.Size([12])\n",
      "[Builder] Skipped loading parameter roi_heads.box_predictor.cls_score.weight due to incompatible shapes: torch.Size([5, 1024]) vs torch.Size([91, 1024])\n",
      "[Builder] Skipped loading parameter roi_heads.box_predictor.cls_score.bias due to incompatible shapes: torch.Size([5]) vs torch.Size([91])\n",
      "[Builder] Skipped loading parameter roi_heads.box_predictor.obbox_pred.weight which is not in the model's state dict.\n",
      "[Builder] Skipped loading parameter roi_heads.box_predictor.obbox_pred.bias which is not in the model's state dict.\n"
     ]
    }
   ],
   "source": [
    "from trainingapi.model.detection.rotated_faster_rcnn import rotated_faster_rcnn_resnet_fpn\n",
    "model = rotated_faster_rcnn_resnet_fpn(True, False, 5, 5, [1,2,3,4], False, \"resnet50\", anchor_sizes=((8), (16), (32), (64), (128)), aspect_ratios=((0.5, 1.0, 2.0),) * 5,angles=((0, 60, 120, 180, 240, 300),) * 5,)"
   ]
  },
  {
   "cell_type": "code",
   "execution_count": 5,
   "metadata": {},
   "outputs": [],
   "source": [
    "import torch\n",
    "input = torch.rand(4, 3, 224, 224, device=\"cuda\")\n",
    "model.eval().cuda()\n",
    "out = model(input)\n"
   ]
  },
  {
   "cell_type": "code",
   "execution_count": 8,
   "metadata": {},
   "outputs": [
    {
     "name": "stdout",
     "output_type": "stream",
     "text": [
      "[Builder] Skipped loading parameter backbone.body.0.1.num_batches_tracked which is not in the model's state dict.\n",
      "[Builder] Skipped loading parameter backbone.body.1.block.0.1.num_batches_tracked which is not in the model's state dict.\n",
      "[Builder] Skipped loading parameter backbone.body.1.block.1.1.num_batches_tracked which is not in the model's state dict.\n",
      "[Builder] Skipped loading parameter backbone.body.2.block.0.1.num_batches_tracked which is not in the model's state dict.\n",
      "[Builder] Skipped loading parameter backbone.body.2.block.1.1.num_batches_tracked which is not in the model's state dict.\n",
      "[Builder] Skipped loading parameter backbone.body.2.block.2.1.num_batches_tracked which is not in the model's state dict.\n",
      "[Builder] Skipped loading parameter backbone.body.3.block.0.1.num_batches_tracked which is not in the model's state dict.\n",
      "[Builder] Skipped loading parameter backbone.body.3.block.1.1.num_batches_tracked which is not in the model's state dict.\n",
      "[Builder] Skipped loading parameter backbone.body.3.block.2.1.num_batches_tracked which is not in the model's state dict.\n",
      "[Builder] Skipped loading parameter backbone.body.4.block.0.1.num_batches_tracked which is not in the model's state dict.\n",
      "[Builder] Skipped loading parameter backbone.body.4.block.1.1.num_batches_tracked which is not in the model's state dict.\n",
      "[Builder] Skipped loading parameter backbone.body.4.block.3.1.num_batches_tracked which is not in the model's state dict.\n",
      "[Builder] Skipped loading parameter backbone.body.5.block.0.1.num_batches_tracked which is not in the model's state dict.\n",
      "[Builder] Skipped loading parameter backbone.body.5.block.1.1.num_batches_tracked which is not in the model's state dict.\n",
      "[Builder] Skipped loading parameter backbone.body.5.block.3.1.num_batches_tracked which is not in the model's state dict.\n",
      "[Builder] Skipped loading parameter backbone.body.6.block.0.1.num_batches_tracked which is not in the model's state dict.\n",
      "[Builder] Skipped loading parameter backbone.body.6.block.1.1.num_batches_tracked which is not in the model's state dict.\n",
      "[Builder] Skipped loading parameter backbone.body.6.block.3.1.num_batches_tracked which is not in the model's state dict.\n",
      "[Builder] Skipped loading parameter backbone.body.7.block.0.1.num_batches_tracked which is not in the model's state dict.\n",
      "[Builder] Skipped loading parameter backbone.body.7.block.1.1.num_batches_tracked which is not in the model's state dict.\n",
      "[Builder] Skipped loading parameter backbone.body.7.block.2.1.num_batches_tracked which is not in the model's state dict.\n",
      "[Builder] Skipped loading parameter backbone.body.8.block.0.1.num_batches_tracked which is not in the model's state dict.\n",
      "[Builder] Skipped loading parameter backbone.body.8.block.1.1.num_batches_tracked which is not in the model's state dict.\n",
      "[Builder] Skipped loading parameter backbone.body.8.block.2.1.num_batches_tracked which is not in the model's state dict.\n",
      "[Builder] Skipped loading parameter backbone.body.9.block.0.1.num_batches_tracked which is not in the model's state dict.\n",
      "[Builder] Skipped loading parameter backbone.body.9.block.1.1.num_batches_tracked which is not in the model's state dict.\n",
      "[Builder] Skipped loading parameter backbone.body.9.block.2.1.num_batches_tracked which is not in the model's state dict.\n",
      "[Builder] Skipped loading parameter backbone.body.10.block.0.1.num_batches_tracked which is not in the model's state dict.\n",
      "[Builder] Skipped loading parameter backbone.body.10.block.1.1.num_batches_tracked which is not in the model's state dict.\n",
      "[Builder] Skipped loading parameter backbone.body.10.block.2.1.num_batches_tracked which is not in the model's state dict.\n",
      "[Builder] Skipped loading parameter backbone.body.11.block.0.1.num_batches_tracked which is not in the model's state dict.\n",
      "[Builder] Skipped loading parameter backbone.body.11.block.1.1.num_batches_tracked which is not in the model's state dict.\n",
      "[Builder] Skipped loading parameter backbone.body.11.block.3.1.num_batches_tracked which is not in the model's state dict.\n",
      "[Builder] Skipped loading parameter backbone.body.12.block.0.1.num_batches_tracked which is not in the model's state dict.\n",
      "[Builder] Skipped loading parameter backbone.body.12.block.1.1.num_batches_tracked which is not in the model's state dict.\n",
      "[Builder] Skipped loading parameter backbone.body.12.block.3.1.num_batches_tracked which is not in the model's state dict.\n",
      "[Builder] Skipped loading parameter backbone.body.13.block.0.1.num_batches_tracked which is not in the model's state dict.\n",
      "[Builder] Skipped loading parameter backbone.body.13.block.1.1.num_batches_tracked which is not in the model's state dict.\n",
      "[Builder] Skipped loading parameter backbone.body.13.block.3.1.num_batches_tracked which is not in the model's state dict.\n",
      "[Builder] Skipped loading parameter backbone.fpn.inner_blocks.0.0.weight which is not in the model's state dict.\n",
      "[Builder] Skipped loading parameter backbone.fpn.inner_blocks.0.1.weight which is not in the model's state dict.\n",
      "[Builder] Skipped loading parameter backbone.fpn.inner_blocks.0.1.bias which is not in the model's state dict.\n",
      "[Builder] Skipped loading parameter backbone.fpn.inner_blocks.0.1.running_mean which is not in the model's state dict.\n",
      "[Builder] Skipped loading parameter backbone.fpn.inner_blocks.0.1.running_var which is not in the model's state dict.\n",
      "[Builder] Skipped loading parameter backbone.fpn.inner_blocks.1.0.weight which is not in the model's state dict.\n",
      "[Builder] Skipped loading parameter backbone.fpn.inner_blocks.1.1.weight which is not in the model's state dict.\n",
      "[Builder] Skipped loading parameter backbone.fpn.inner_blocks.1.1.bias which is not in the model's state dict.\n",
      "[Builder] Skipped loading parameter backbone.fpn.inner_blocks.1.1.running_mean which is not in the model's state dict.\n",
      "[Builder] Skipped loading parameter backbone.fpn.inner_blocks.1.1.running_var which is not in the model's state dict.\n",
      "[Builder] Skipped loading parameter backbone.fpn.inner_blocks.2.0.weight which is not in the model's state dict.\n",
      "[Builder] Skipped loading parameter backbone.fpn.inner_blocks.2.1.weight which is not in the model's state dict.\n",
      "[Builder] Skipped loading parameter backbone.fpn.inner_blocks.2.1.bias which is not in the model's state dict.\n",
      "[Builder] Skipped loading parameter backbone.fpn.inner_blocks.2.1.running_mean which is not in the model's state dict.\n",
      "[Builder] Skipped loading parameter backbone.fpn.inner_blocks.2.1.running_var which is not in the model's state dict.\n",
      "[Builder] Skipped loading parameter backbone.fpn.inner_blocks.3.0.weight which is not in the model's state dict.\n",
      "[Builder] Skipped loading parameter backbone.fpn.inner_blocks.3.1.weight which is not in the model's state dict.\n",
      "[Builder] Skipped loading parameter backbone.fpn.inner_blocks.3.1.bias which is not in the model's state dict.\n",
      "[Builder] Skipped loading parameter backbone.fpn.inner_blocks.3.1.running_mean which is not in the model's state dict.\n",
      "[Builder] Skipped loading parameter backbone.fpn.inner_blocks.3.1.running_var which is not in the model's state dict.\n",
      "[Builder] Skipped loading parameter backbone.fpn.layer_blocks.0.0.weight which is not in the model's state dict.\n",
      "[Builder] Skipped loading parameter backbone.fpn.layer_blocks.0.1.weight which is not in the model's state dict.\n",
      "[Builder] Skipped loading parameter backbone.fpn.layer_blocks.0.1.bias which is not in the model's state dict.\n",
      "[Builder] Skipped loading parameter backbone.fpn.layer_blocks.0.1.running_mean which is not in the model's state dict.\n",
      "[Builder] Skipped loading parameter backbone.fpn.layer_blocks.0.1.running_var which is not in the model's state dict.\n",
      "[Builder] Skipped loading parameter backbone.fpn.layer_blocks.1.0.weight which is not in the model's state dict.\n",
      "[Builder] Skipped loading parameter backbone.fpn.layer_blocks.1.1.weight which is not in the model's state dict.\n",
      "[Builder] Skipped loading parameter backbone.fpn.layer_blocks.1.1.bias which is not in the model's state dict.\n",
      "[Builder] Skipped loading parameter backbone.fpn.layer_blocks.1.1.running_mean which is not in the model's state dict.\n",
      "[Builder] Skipped loading parameter backbone.fpn.layer_blocks.1.1.running_var which is not in the model's state dict.\n",
      "[Builder] Skipped loading parameter backbone.fpn.layer_blocks.2.0.weight which is not in the model's state dict.\n",
      "[Builder] Skipped loading parameter backbone.fpn.layer_blocks.2.1.weight which is not in the model's state dict.\n",
      "[Builder] Skipped loading parameter backbone.fpn.layer_blocks.2.1.bias which is not in the model's state dict.\n",
      "[Builder] Skipped loading parameter backbone.fpn.layer_blocks.2.1.running_mean which is not in the model's state dict.\n",
      "[Builder] Skipped loading parameter backbone.fpn.layer_blocks.2.1.running_var which is not in the model's state dict.\n",
      "[Builder] Skipped loading parameter backbone.fpn.layer_blocks.3.0.weight which is not in the model's state dict.\n",
      "[Builder] Skipped loading parameter backbone.fpn.layer_blocks.3.1.weight which is not in the model's state dict.\n",
      "[Builder] Skipped loading parameter backbone.fpn.layer_blocks.3.1.bias which is not in the model's state dict.\n",
      "[Builder] Skipped loading parameter backbone.fpn.layer_blocks.3.1.running_mean which is not in the model's state dict.\n",
      "[Builder] Skipped loading parameter backbone.fpn.layer_blocks.3.1.running_var which is not in the model's state dict.\n",
      "[Builder] Skipped loading parameter rpn.head.conv.0.0.weight which is not in the model's state dict.\n",
      "[Builder] Skipped loading parameter rpn.head.conv.0.0.bias which is not in the model's state dict.\n",
      "[Builder] Skipped loading parameter rpn.head.cls_logits.weight due to incompatible shapes: torch.Size([90, 256, 1, 1]) vs torch.Size([15, 256, 1, 1])\n",
      "[Builder] Skipped loading parameter rpn.head.cls_logits.bias due to incompatible shapes: torch.Size([90]) vs torch.Size([15])\n",
      "[Builder] Skipped loading parameter rpn.head.bbox_pred.weight due to incompatible shapes: torch.Size([540, 256, 1, 1]) vs torch.Size([60, 256, 1, 1])\n",
      "[Builder] Skipped loading parameter rpn.head.bbox_pred.bias due to incompatible shapes: torch.Size([540]) vs torch.Size([60])\n",
      "[Builder] Skipped loading parameter roi_heads.box_head.0.0.weight which is not in the model's state dict.\n",
      "[Builder] Skipped loading parameter roi_heads.box_head.0.1.weight which is not in the model's state dict.\n",
      "[Builder] Skipped loading parameter roi_heads.box_head.0.1.bias which is not in the model's state dict.\n",
      "[Builder] Skipped loading parameter roi_heads.box_head.0.1.running_mean which is not in the model's state dict.\n",
      "[Builder] Skipped loading parameter roi_heads.box_head.0.1.running_var which is not in the model's state dict.\n",
      "[Builder] Skipped loading parameter roi_heads.box_head.1.0.weight which is not in the model's state dict.\n",
      "[Builder] Skipped loading parameter roi_heads.box_head.1.1.weight which is not in the model's state dict.\n",
      "[Builder] Skipped loading parameter roi_heads.box_head.1.1.bias which is not in the model's state dict.\n",
      "[Builder] Skipped loading parameter roi_heads.box_head.1.1.running_mean which is not in the model's state dict.\n",
      "[Builder] Skipped loading parameter roi_heads.box_head.1.1.running_var which is not in the model's state dict.\n",
      "[Builder] Skipped loading parameter roi_heads.box_head.2.0.weight which is not in the model's state dict.\n",
      "[Builder] Skipped loading parameter roi_heads.box_head.2.1.weight which is not in the model's state dict.\n",
      "[Builder] Skipped loading parameter roi_heads.box_head.2.1.bias which is not in the model's state dict.\n",
      "[Builder] Skipped loading parameter roi_heads.box_head.2.1.running_mean which is not in the model's state dict.\n",
      "[Builder] Skipped loading parameter roi_heads.box_head.2.1.running_var which is not in the model's state dict.\n",
      "[Builder] Skipped loading parameter roi_heads.box_head.3.0.weight which is not in the model's state dict.\n",
      "[Builder] Skipped loading parameter roi_heads.box_head.3.1.weight which is not in the model's state dict.\n",
      "[Builder] Skipped loading parameter roi_heads.box_head.3.1.bias which is not in the model's state dict.\n",
      "[Builder] Skipped loading parameter roi_heads.box_head.3.1.running_mean which is not in the model's state dict.\n",
      "[Builder] Skipped loading parameter roi_heads.box_head.3.1.running_var which is not in the model's state dict.\n",
      "[Builder] Skipped loading parameter roi_heads.box_head.5.weight which is not in the model's state dict.\n",
      "[Builder] Skipped loading parameter roi_heads.box_head.5.bias which is not in the model's state dict.\n",
      "[Builder] Skipped loading parameter roi_heads.box_predictor.cls_score.weight due to incompatible shapes: torch.Size([5, 1024]) vs torch.Size([91, 1024])\n",
      "[Builder] Skipped loading parameter roi_heads.box_predictor.cls_score.bias due to incompatible shapes: torch.Size([5]) vs torch.Size([91])\n",
      "[Builder] Skipped loading parameter roi_heads.box_predictor.obbox_pred.weight which is not in the model's state dict.\n",
      "[Builder] Skipped loading parameter roi_heads.box_predictor.obbox_pred.bias which is not in the model's state dict.\n"
     ]
    }
   ],
   "source": [
    "from trainingapi.model.detection.rotated_faster_rcnn import rotated_faster_rcnn_mobilenetv3_large\n",
    "returned_layers =[1,2,3,4]\n",
    "model = rotated_faster_rcnn_mobilenetv3_large(True, False, 5, 5, returned_layers, True, anchor_sizes=((8, 16, 32, 64, 128),) * (len(returned_layers)+1), aspect_ratios=((0.5, 1.0, 2.0),) * (len(returned_layers)+1),angles=((0, 60, 120, 180, 240, 300),) * (len(returned_layers)+1),)"
   ]
  },
  {
   "cell_type": "code",
   "execution_count": 11,
   "metadata": {},
   "outputs": [
    {
     "data": {
      "text/plain": [
       "odict_keys(['backbone.body.0.0.weight', 'backbone.body.0.1.weight', 'backbone.body.0.1.bias', 'backbone.body.0.1.running_mean', 'backbone.body.0.1.running_var', 'backbone.body.0.1.num_batches_tracked', 'backbone.body.1.block.0.0.weight', 'backbone.body.1.block.0.1.weight', 'backbone.body.1.block.0.1.bias', 'backbone.body.1.block.0.1.running_mean', 'backbone.body.1.block.0.1.running_var', 'backbone.body.1.block.0.1.num_batches_tracked', 'backbone.body.1.block.1.0.weight', 'backbone.body.1.block.1.1.weight', 'backbone.body.1.block.1.1.bias', 'backbone.body.1.block.1.1.running_mean', 'backbone.body.1.block.1.1.running_var', 'backbone.body.1.block.1.1.num_batches_tracked', 'backbone.body.2.block.0.0.weight', 'backbone.body.2.block.0.1.weight', 'backbone.body.2.block.0.1.bias', 'backbone.body.2.block.0.1.running_mean', 'backbone.body.2.block.0.1.running_var', 'backbone.body.2.block.0.1.num_batches_tracked', 'backbone.body.2.block.1.0.weight', 'backbone.body.2.block.1.1.weight', 'backbone.body.2.block.1.1.bias', 'backbone.body.2.block.1.1.running_mean', 'backbone.body.2.block.1.1.running_var', 'backbone.body.2.block.1.1.num_batches_tracked', 'backbone.body.2.block.2.0.weight', 'backbone.body.2.block.2.1.weight', 'backbone.body.2.block.2.1.bias', 'backbone.body.2.block.2.1.running_mean', 'backbone.body.2.block.2.1.running_var', 'backbone.body.2.block.2.1.num_batches_tracked', 'backbone.body.3.block.0.0.weight', 'backbone.body.3.block.0.1.weight', 'backbone.body.3.block.0.1.bias', 'backbone.body.3.block.0.1.running_mean', 'backbone.body.3.block.0.1.running_var', 'backbone.body.3.block.0.1.num_batches_tracked', 'backbone.body.3.block.1.0.weight', 'backbone.body.3.block.1.1.weight', 'backbone.body.3.block.1.1.bias', 'backbone.body.3.block.1.1.running_mean', 'backbone.body.3.block.1.1.running_var', 'backbone.body.3.block.1.1.num_batches_tracked', 'backbone.body.3.block.2.0.weight', 'backbone.body.3.block.2.1.weight', 'backbone.body.3.block.2.1.bias', 'backbone.body.3.block.2.1.running_mean', 'backbone.body.3.block.2.1.running_var', 'backbone.body.3.block.2.1.num_batches_tracked', 'backbone.body.4.block.0.0.weight', 'backbone.body.4.block.0.1.weight', 'backbone.body.4.block.0.1.bias', 'backbone.body.4.block.0.1.running_mean', 'backbone.body.4.block.0.1.running_var', 'backbone.body.4.block.0.1.num_batches_tracked', 'backbone.body.4.block.1.0.weight', 'backbone.body.4.block.1.1.weight', 'backbone.body.4.block.1.1.bias', 'backbone.body.4.block.1.1.running_mean', 'backbone.body.4.block.1.1.running_var', 'backbone.body.4.block.1.1.num_batches_tracked', 'backbone.body.4.block.2.fc1.weight', 'backbone.body.4.block.2.fc1.bias', 'backbone.body.4.block.2.fc2.weight', 'backbone.body.4.block.2.fc2.bias', 'backbone.body.4.block.3.0.weight', 'backbone.body.4.block.3.1.weight', 'backbone.body.4.block.3.1.bias', 'backbone.body.4.block.3.1.running_mean', 'backbone.body.4.block.3.1.running_var', 'backbone.body.4.block.3.1.num_batches_tracked', 'backbone.body.5.block.0.0.weight', 'backbone.body.5.block.0.1.weight', 'backbone.body.5.block.0.1.bias', 'backbone.body.5.block.0.1.running_mean', 'backbone.body.5.block.0.1.running_var', 'backbone.body.5.block.0.1.num_batches_tracked', 'backbone.body.5.block.1.0.weight', 'backbone.body.5.block.1.1.weight', 'backbone.body.5.block.1.1.bias', 'backbone.body.5.block.1.1.running_mean', 'backbone.body.5.block.1.1.running_var', 'backbone.body.5.block.1.1.num_batches_tracked', 'backbone.body.5.block.2.fc1.weight', 'backbone.body.5.block.2.fc1.bias', 'backbone.body.5.block.2.fc2.weight', 'backbone.body.5.block.2.fc2.bias', 'backbone.body.5.block.3.0.weight', 'backbone.body.5.block.3.1.weight', 'backbone.body.5.block.3.1.bias', 'backbone.body.5.block.3.1.running_mean', 'backbone.body.5.block.3.1.running_var', 'backbone.body.5.block.3.1.num_batches_tracked', 'backbone.body.6.block.0.0.weight', 'backbone.body.6.block.0.1.weight', 'backbone.body.6.block.0.1.bias', 'backbone.body.6.block.0.1.running_mean', 'backbone.body.6.block.0.1.running_var', 'backbone.body.6.block.0.1.num_batches_tracked', 'backbone.body.6.block.1.0.weight', 'backbone.body.6.block.1.1.weight', 'backbone.body.6.block.1.1.bias', 'backbone.body.6.block.1.1.running_mean', 'backbone.body.6.block.1.1.running_var', 'backbone.body.6.block.1.1.num_batches_tracked', 'backbone.body.6.block.2.fc1.weight', 'backbone.body.6.block.2.fc1.bias', 'backbone.body.6.block.2.fc2.weight', 'backbone.body.6.block.2.fc2.bias', 'backbone.body.6.block.3.0.weight', 'backbone.body.6.block.3.1.weight', 'backbone.body.6.block.3.1.bias', 'backbone.body.6.block.3.1.running_mean', 'backbone.body.6.block.3.1.running_var', 'backbone.body.6.block.3.1.num_batches_tracked', 'backbone.body.7.block.0.0.weight', 'backbone.body.7.block.0.1.weight', 'backbone.body.7.block.0.1.bias', 'backbone.body.7.block.0.1.running_mean', 'backbone.body.7.block.0.1.running_var', 'backbone.body.7.block.0.1.num_batches_tracked', 'backbone.body.7.block.1.0.weight', 'backbone.body.7.block.1.1.weight', 'backbone.body.7.block.1.1.bias', 'backbone.body.7.block.1.1.running_mean', 'backbone.body.7.block.1.1.running_var', 'backbone.body.7.block.1.1.num_batches_tracked', 'backbone.body.7.block.2.0.weight', 'backbone.body.7.block.2.1.weight', 'backbone.body.7.block.2.1.bias', 'backbone.body.7.block.2.1.running_mean', 'backbone.body.7.block.2.1.running_var', 'backbone.body.7.block.2.1.num_batches_tracked', 'backbone.body.8.block.0.0.weight', 'backbone.body.8.block.0.1.weight', 'backbone.body.8.block.0.1.bias', 'backbone.body.8.block.0.1.running_mean', 'backbone.body.8.block.0.1.running_var', 'backbone.body.8.block.0.1.num_batches_tracked', 'backbone.body.8.block.1.0.weight', 'backbone.body.8.block.1.1.weight', 'backbone.body.8.block.1.1.bias', 'backbone.body.8.block.1.1.running_mean', 'backbone.body.8.block.1.1.running_var', 'backbone.body.8.block.1.1.num_batches_tracked', 'backbone.body.8.block.2.0.weight', 'backbone.body.8.block.2.1.weight', 'backbone.body.8.block.2.1.bias', 'backbone.body.8.block.2.1.running_mean', 'backbone.body.8.block.2.1.running_var', 'backbone.body.8.block.2.1.num_batches_tracked', 'backbone.body.9.block.0.0.weight', 'backbone.body.9.block.0.1.weight', 'backbone.body.9.block.0.1.bias', 'backbone.body.9.block.0.1.running_mean', 'backbone.body.9.block.0.1.running_var', 'backbone.body.9.block.0.1.num_batches_tracked', 'backbone.body.9.block.1.0.weight', 'backbone.body.9.block.1.1.weight', 'backbone.body.9.block.1.1.bias', 'backbone.body.9.block.1.1.running_mean', 'backbone.body.9.block.1.1.running_var', 'backbone.body.9.block.1.1.num_batches_tracked', 'backbone.body.9.block.2.0.weight', 'backbone.body.9.block.2.1.weight', 'backbone.body.9.block.2.1.bias', 'backbone.body.9.block.2.1.running_mean', 'backbone.body.9.block.2.1.running_var', 'backbone.body.9.block.2.1.num_batches_tracked', 'backbone.body.10.block.0.0.weight', 'backbone.body.10.block.0.1.weight', 'backbone.body.10.block.0.1.bias', 'backbone.body.10.block.0.1.running_mean', 'backbone.body.10.block.0.1.running_var', 'backbone.body.10.block.0.1.num_batches_tracked', 'backbone.body.10.block.1.0.weight', 'backbone.body.10.block.1.1.weight', 'backbone.body.10.block.1.1.bias', 'backbone.body.10.block.1.1.running_mean', 'backbone.body.10.block.1.1.running_var', 'backbone.body.10.block.1.1.num_batches_tracked', 'backbone.body.10.block.2.0.weight', 'backbone.body.10.block.2.1.weight', 'backbone.body.10.block.2.1.bias', 'backbone.body.10.block.2.1.running_mean', 'backbone.body.10.block.2.1.running_var', 'backbone.body.10.block.2.1.num_batches_tracked', 'backbone.body.11.block.0.0.weight', 'backbone.body.11.block.0.1.weight', 'backbone.body.11.block.0.1.bias', 'backbone.body.11.block.0.1.running_mean', 'backbone.body.11.block.0.1.running_var', 'backbone.body.11.block.0.1.num_batches_tracked', 'backbone.body.11.block.1.0.weight', 'backbone.body.11.block.1.1.weight', 'backbone.body.11.block.1.1.bias', 'backbone.body.11.block.1.1.running_mean', 'backbone.body.11.block.1.1.running_var', 'backbone.body.11.block.1.1.num_batches_tracked', 'backbone.body.11.block.2.fc1.weight', 'backbone.body.11.block.2.fc1.bias', 'backbone.body.11.block.2.fc2.weight', 'backbone.body.11.block.2.fc2.bias', 'backbone.body.11.block.3.0.weight', 'backbone.body.11.block.3.1.weight', 'backbone.body.11.block.3.1.bias', 'backbone.body.11.block.3.1.running_mean', 'backbone.body.11.block.3.1.running_var', 'backbone.body.11.block.3.1.num_batches_tracked', 'backbone.body.12.block.0.0.weight', 'backbone.body.12.block.0.1.weight', 'backbone.body.12.block.0.1.bias', 'backbone.body.12.block.0.1.running_mean', 'backbone.body.12.block.0.1.running_var', 'backbone.body.12.block.0.1.num_batches_tracked', 'backbone.body.12.block.1.0.weight', 'backbone.body.12.block.1.1.weight', 'backbone.body.12.block.1.1.bias', 'backbone.body.12.block.1.1.running_mean', 'backbone.body.12.block.1.1.running_var', 'backbone.body.12.block.1.1.num_batches_tracked', 'backbone.body.12.block.2.fc1.weight', 'backbone.body.12.block.2.fc1.bias', 'backbone.body.12.block.2.fc2.weight', 'backbone.body.12.block.2.fc2.bias', 'backbone.body.12.block.3.0.weight', 'backbone.body.12.block.3.1.weight', 'backbone.body.12.block.3.1.bias', 'backbone.body.12.block.3.1.running_mean', 'backbone.body.12.block.3.1.running_var', 'backbone.body.12.block.3.1.num_batches_tracked', 'backbone.body.13.block.0.0.weight', 'backbone.body.13.block.0.1.weight', 'backbone.body.13.block.0.1.bias', 'backbone.body.13.block.0.1.running_mean', 'backbone.body.13.block.0.1.running_var', 'backbone.body.13.block.0.1.num_batches_tracked', 'backbone.body.13.block.1.0.weight', 'backbone.body.13.block.1.1.weight', 'backbone.body.13.block.1.1.bias', 'backbone.body.13.block.1.1.running_mean', 'backbone.body.13.block.1.1.running_var', 'backbone.body.13.block.1.1.num_batches_tracked', 'backbone.body.13.block.2.fc1.weight', 'backbone.body.13.block.2.fc1.bias', 'backbone.body.13.block.2.fc2.weight', 'backbone.body.13.block.2.fc2.bias', 'backbone.body.13.block.3.0.weight', 'backbone.body.13.block.3.1.weight', 'backbone.body.13.block.3.1.bias', 'backbone.body.13.block.3.1.running_mean', 'backbone.body.13.block.3.1.running_var', 'backbone.body.13.block.3.1.num_batches_tracked', 'backbone.body.14.block.0.0.weight', 'backbone.body.14.block.0.1.weight', 'backbone.body.14.block.0.1.bias', 'backbone.body.14.block.0.1.running_mean', 'backbone.body.14.block.0.1.running_var', 'backbone.body.14.block.0.1.num_batches_tracked', 'backbone.body.14.block.1.0.weight', 'backbone.body.14.block.1.1.weight', 'backbone.body.14.block.1.1.bias', 'backbone.body.14.block.1.1.running_mean', 'backbone.body.14.block.1.1.running_var', 'backbone.body.14.block.1.1.num_batches_tracked', 'backbone.body.14.block.2.fc1.weight', 'backbone.body.14.block.2.fc1.bias', 'backbone.body.14.block.2.fc2.weight', 'backbone.body.14.block.2.fc2.bias', 'backbone.body.14.block.3.0.weight', 'backbone.body.14.block.3.1.weight', 'backbone.body.14.block.3.1.bias', 'backbone.body.14.block.3.1.running_mean', 'backbone.body.14.block.3.1.running_var', 'backbone.body.14.block.3.1.num_batches_tracked', 'backbone.body.15.block.0.0.weight', 'backbone.body.15.block.0.1.weight', 'backbone.body.15.block.0.1.bias', 'backbone.body.15.block.0.1.running_mean', 'backbone.body.15.block.0.1.running_var', 'backbone.body.15.block.0.1.num_batches_tracked', 'backbone.body.15.block.1.0.weight', 'backbone.body.15.block.1.1.weight', 'backbone.body.15.block.1.1.bias', 'backbone.body.15.block.1.1.running_mean', 'backbone.body.15.block.1.1.running_var', 'backbone.body.15.block.1.1.num_batches_tracked', 'backbone.body.15.block.2.fc1.weight', 'backbone.body.15.block.2.fc1.bias', 'backbone.body.15.block.2.fc2.weight', 'backbone.body.15.block.2.fc2.bias', 'backbone.body.15.block.3.0.weight', 'backbone.body.15.block.3.1.weight', 'backbone.body.15.block.3.1.bias', 'backbone.body.15.block.3.1.running_mean', 'backbone.body.15.block.3.1.running_var', 'backbone.body.15.block.3.1.num_batches_tracked', 'backbone.body.16.0.weight', 'backbone.body.16.1.weight', 'backbone.body.16.1.bias', 'backbone.body.16.1.running_mean', 'backbone.body.16.1.running_var', 'backbone.body.16.1.num_batches_tracked', 'backbone.fpn.inner_blocks.0.0.weight', 'backbone.fpn.inner_blocks.0.1.weight', 'backbone.fpn.inner_blocks.0.1.bias', 'backbone.fpn.inner_blocks.0.1.running_mean', 'backbone.fpn.inner_blocks.0.1.running_var', 'backbone.fpn.inner_blocks.1.0.weight', 'backbone.fpn.inner_blocks.1.1.weight', 'backbone.fpn.inner_blocks.1.1.bias', 'backbone.fpn.inner_blocks.1.1.running_mean', 'backbone.fpn.inner_blocks.1.1.running_var', 'backbone.fpn.inner_blocks.2.0.weight', 'backbone.fpn.inner_blocks.2.1.weight', 'backbone.fpn.inner_blocks.2.1.bias', 'backbone.fpn.inner_blocks.2.1.running_mean', 'backbone.fpn.inner_blocks.2.1.running_var', 'backbone.fpn.inner_blocks.3.0.weight', 'backbone.fpn.inner_blocks.3.1.weight', 'backbone.fpn.inner_blocks.3.1.bias', 'backbone.fpn.inner_blocks.3.1.running_mean', 'backbone.fpn.inner_blocks.3.1.running_var', 'backbone.fpn.inner_blocks.4.0.weight', 'backbone.fpn.inner_blocks.4.1.weight', 'backbone.fpn.inner_blocks.4.1.bias', 'backbone.fpn.inner_blocks.4.1.running_mean', 'backbone.fpn.inner_blocks.4.1.running_var', 'backbone.fpn.layer_blocks.0.0.weight', 'backbone.fpn.layer_blocks.0.1.weight', 'backbone.fpn.layer_blocks.0.1.bias', 'backbone.fpn.layer_blocks.0.1.running_mean', 'backbone.fpn.layer_blocks.0.1.running_var', 'backbone.fpn.layer_blocks.1.0.weight', 'backbone.fpn.layer_blocks.1.1.weight', 'backbone.fpn.layer_blocks.1.1.bias', 'backbone.fpn.layer_blocks.1.1.running_mean', 'backbone.fpn.layer_blocks.1.1.running_var', 'backbone.fpn.layer_blocks.2.0.weight', 'backbone.fpn.layer_blocks.2.1.weight', 'backbone.fpn.layer_blocks.2.1.bias', 'backbone.fpn.layer_blocks.2.1.running_mean', 'backbone.fpn.layer_blocks.2.1.running_var', 'backbone.fpn.layer_blocks.3.0.weight', 'backbone.fpn.layer_blocks.3.1.weight', 'backbone.fpn.layer_blocks.3.1.bias', 'backbone.fpn.layer_blocks.3.1.running_mean', 'backbone.fpn.layer_blocks.3.1.running_var', 'backbone.fpn.layer_blocks.4.0.weight', 'backbone.fpn.layer_blocks.4.1.weight', 'backbone.fpn.layer_blocks.4.1.bias', 'backbone.fpn.layer_blocks.4.1.running_mean', 'backbone.fpn.layer_blocks.4.1.running_var', 'rpn.head.conv.0.0.weight', 'rpn.head.conv.0.0.bias', 'rpn.head.cls_logits.weight', 'rpn.head.cls_logits.bias', 'rpn.head.bbox_pred.weight', 'rpn.head.bbox_pred.bias', 'roi_heads.box_head.0.0.weight', 'roi_heads.box_head.0.1.weight', 'roi_heads.box_head.0.1.bias', 'roi_heads.box_head.0.1.running_mean', 'roi_heads.box_head.0.1.running_var', 'roi_heads.box_head.1.0.weight', 'roi_heads.box_head.1.1.weight', 'roi_heads.box_head.1.1.bias', 'roi_heads.box_head.1.1.running_mean', 'roi_heads.box_head.1.1.running_var', 'roi_heads.box_head.2.0.weight', 'roi_heads.box_head.2.1.weight', 'roi_heads.box_head.2.1.bias', 'roi_heads.box_head.2.1.running_mean', 'roi_heads.box_head.2.1.running_var', 'roi_heads.box_head.3.0.weight', 'roi_heads.box_head.3.1.weight', 'roi_heads.box_head.3.1.bias', 'roi_heads.box_head.3.1.running_mean', 'roi_heads.box_head.3.1.running_var', 'roi_heads.box_head.5.weight', 'roi_heads.box_head.5.bias', 'roi_heads.box_predictor.cls_score.weight', 'roi_heads.box_predictor.cls_score.bias', 'roi_heads.box_predictor.obbox_pred.weight', 'roi_heads.box_predictor.obbox_pred.bias'])"
      ]
     },
     "execution_count": 11,
     "metadata": {},
     "output_type": "execute_result"
    }
   ],
   "source": [
    "model.state_dict().keys()"
   ]
  },
  {
   "cell_type": "code",
   "execution_count": 1,
   "metadata": {},
   "outputs": [],
   "source": [
    "from trainingapi.model.detection.rotated_faster_rcnn import rotated_faster_rcnn_resnet50_fpn"
   ]
  },
  {
   "cell_type": "code",
   "execution_count": null,
   "metadata": {},
   "outputs": [],
   "source": [
    "rotated_faster_rcnn_resnet50_fpn()"
   ]
  }
 ],
 "metadata": {
  "kernelspec": {
   "display_name": ".venv",
   "language": "python",
   "name": "python3"
  },
  "language_info": {
   "codemirror_mode": {
    "name": "ipython",
    "version": 3
   },
   "file_extension": ".py",
   "mimetype": "text/x-python",
   "name": "python",
   "nbconvert_exporter": "python",
   "pygments_lexer": "ipython3",
   "version": "3.10.11"
  }
 },
 "nbformat": 4,
 "nbformat_minor": 2
}
