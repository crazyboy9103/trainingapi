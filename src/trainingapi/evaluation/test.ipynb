{
 "cells": [
  {
   "cell_type": "code",
   "execution_count": 1,
   "metadata": {},
   "outputs": [],
   "source": [
    "import torch\n",
    "target_boxes = [torch.rand(2, 5), torch.rand(4, 5)]\n",
    "target_labels = [torch.as_tensor([1,2]), torch.as_tensor([3,4,5,4])]\n",
    "pred_boxes = [torch.rand(5, 5), torch.rand(9, 5)]\n",
    "pred_labels = [torch.randint(0, 5, (5,)), torch.randint(0, 5, (9,))]\n",
    "pred_scores = [torch.rand(5,), torch.rand(9,)]\n",
    "\n",
    "preds = [{\n",
    "    \"oboxes\": b,\n",
    "    \"labels\": l,\n",
    "    \"scores\": s\n",
    "} for b, l, s in zip(pred_boxes, pred_labels, pred_scores)]\n",
    "\n",
    "targets = [{\n",
    "    \"oboxes\": b,\n",
    "    \"labels\": l\n",
    "} for b, l in zip(target_boxes, target_labels)]"
   ]
  },
  {
   "cell_type": "code",
   "execution_count": 2,
   "metadata": {},
   "outputs": [],
   "source": [
    "from trainingapi.evaluation.benchmark_metrics import RotatedMeanAveragePrecision\n",
    "\n",
    "mAP=RotatedMeanAveragePrecision()"
   ]
  },
  {
   "cell_type": "code",
   "execution_count": 3,
   "metadata": {},
   "outputs": [],
   "source": [
    "mAP.update(\n",
    "    preds, targets\n",
    ")"
   ]
  },
  {
   "cell_type": "code",
   "execution_count": 4,
   "metadata": {},
   "outputs": [
    {
     "data": {
      "text/plain": [
       "({'Precision': 0.0,\n",
       "  'Recall': 0.0,\n",
       "  'F1-Score': 0.0,\n",
       "  'mAP': 0.0,\n",
       "  'mIoU': 0.0,\n",
       "  'SoAP': 0.0},\n",
       " {0.5: {'Precision': 0.0,\n",
       "   'Recall': 0.0,\n",
       "   'F1-Score': 0.0,\n",
       "   'mAP': 0.0,\n",
       "   'mIoU': 0.0,\n",
       "   'SoAP': 0.0}},\n",
       " {0.5: {0: {'Precision': 0,\n",
       "    'Recall': 0,\n",
       "    'F1-Score': 0,\n",
       "    'AP': 0,\n",
       "    'mIoU': 0,\n",
       "    'SoAP': 0},\n",
       "   1: {'Precision': 0,\n",
       "    'Recall': 0,\n",
       "    'F1-Score': 0,\n",
       "    'AP': 0,\n",
       "    'mIoU': 0,\n",
       "    'SoAP': 0},\n",
       "   2: {'Precision': 0,\n",
       "    'Recall': 0,\n",
       "    'F1-Score': 0,\n",
       "    'AP': 0,\n",
       "    'mIoU': 0,\n",
       "    'SoAP': 0},\n",
       "   3: {'Precision': 0,\n",
       "    'Recall': 0,\n",
       "    'F1-Score': 0,\n",
       "    'AP': 0,\n",
       "    'mIoU': 0,\n",
       "    'SoAP': 0},\n",
       "   4: {'Precision': 0,\n",
       "    'Recall': 0,\n",
       "    'F1-Score': 0,\n",
       "    'AP': 0,\n",
       "    'mIoU': 0,\n",
       "    'SoAP': 0}}})"
      ]
     },
     "execution_count": 4,
     "metadata": {},
     "output_type": "execute_result"
    }
   ],
   "source": [
    "mAP.compute()"
   ]
  },
  {
   "cell_type": "code",
   "execution_count": null,
   "metadata": {},
   "outputs": [],
   "source": []
  }
 ],
 "metadata": {
  "kernelspec": {
   "display_name": ".venv",
   "language": "python",
   "name": "python3"
  },
  "language_info": {
   "codemirror_mode": {
    "name": "ipython",
    "version": 3
   },
   "file_extension": ".py",
   "mimetype": "text/x-python",
   "name": "python",
   "nbconvert_exporter": "python",
   "pygments_lexer": "ipython3",
   "version": "3.10.11"
  }
 },
 "nbformat": 4,
 "nbformat_minor": 2
}
